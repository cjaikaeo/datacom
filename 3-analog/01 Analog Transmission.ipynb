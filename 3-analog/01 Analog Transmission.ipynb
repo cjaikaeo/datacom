{
 "cells": [
  {
   "cell_type": "markdown",
   "metadata": {
    "slideshow": {
     "slide_type": "slide"
    }
   },
   "source": [
    "# การส่งข้อมูลดิจิทัลด้วยสัญญาณแบบแอนะล็อก\n",
    "\n",
    "ช่องสัญญาณบางอย่างมีการจำกัดความถี่ต่ำสุดและสูงสุดที่ยอมให้สัญญาณผ่านไปได้ เช่นสายโทรศัพท์ยอมให้สัญญาณเสียงผ่านในช่วง 300-3000 Hz ส่วนช่องสัญญาณสำหรับใช้งานแลนไร้สายมาตรฐานหนึ่งยอมให้สัญญาณวิทยุผ่านในช่วง 2400-2500 MHz เป็นต้น\n",
    "\n",
    "ในกรณีนี้การส่งข้อมูลโดยใช้สัญญาณแบบดิจิทัล (ซึ่งเรียกว่า baseband transmission) ไม่สามารถทำได้เนื่องจากพลังงานของสัญญาณส่วนใหญ่กระจายตัวอยู่ในบริเวณย่านความถี่ต่ำ จึงต้องมีกระบวนการโยกย้ายความถี่ของสัญญาณให้ไปอยู่ในย่ายที่ต้องการ ซึ่งเรียกว่ากระบวนการมอดูเลชัน (modulation)\n",
    "\n",
    "## วัตถุประสงค์\n",
    "* เข้าใจถึงข้อจำกัดของการส่งสัญญาณแบบดิจิทัล (baseband tranmission) ผ่านช่องสัญญาณที่มีการจำกัดความถี่ต่ำสุดและสูงสุด (bandpass channel) \n",
    "* รู้จักกระบวนการทำมอดูเลชันแบบต่าง ๆ รวมถึงความต้องการการใช้แบนด์วิธด์ที่แตกต่างกัน\n",
    "* เข้าใจความหมายของ constellation diagram รวมถึงความสัมพันธ์ระหว่าง bit rate และ baud rate"
   ]
  },
  {
   "cell_type": "markdown",
   "metadata": {
    "slideshow": {
     "slide_type": "slide"
    }
   },
   "source": [
    "## การเตรียมตัว\n",
    "รันคำสั่งในเซลล์ต่อไปนี้เพื่อโหลดไลบรารีและตั้งค่าอื่น ๆ ที่ใช้งานเหมือนที่ผ่านมา"
   ]
  },
  {
   "cell_type": "code",
   "execution_count": null,
   "metadata": {},
   "outputs": [],
   "source": [
    "from sigproc import Signal, start_notebook\n",
    "bkp = start_notebook()"
   ]
  },
  {
   "cell_type": "markdown",
   "metadata": {},
   "source": [
    "## โมดูล `analog.py`\n",
    "ผู้สอนได้เตรียมโมดูล `analog.py` ที่นิยามฟังก์ชันและคลาสที่จำเป็นในการสร้างมอดูเลชันแบบต่าง ๆ เอาไว้ ให้อิมพอร์ททุกอย่างจากโมดูลนี้มารอไว้ใช้งาน"
   ]
  },
  {
   "cell_type": "code",
   "execution_count": null,
   "metadata": {
    "collapsed": true
   },
   "outputs": [],
   "source": [
    "from analog import *"
   ]
  },
  {
   "cell_type": "markdown",
   "metadata": {},
   "source": [
    "## กำหนดค่าตัวแปรที่ใช้ร่วมกัน\n",
    "เซลล์ด้านล่างนิยามตัวแปรเอาไว้ใช้ในการสร้างกลไกมอดูเลชันและข้อมูลที่จะนำมาสร้างเป็นสัญญาณ กลับมาแก้ไขและรันเซลล์นี้ใหม่เพื่อศึกษาพฤติกรรมของสัญญาณที่ถูกสร้างขึ้นด้วยข้อมูลและการตั้งค่าที่แตกต่างกัน"
   ]
  },
  {
   "cell_type": "code",
   "execution_count": null,
   "metadata": {
    "collapsed": true
   },
   "outputs": [],
   "source": [
    "CARRIER_FREQ = 20   # ความถี่ของคลื่นพาหะ\n",
    "BIT_RATE = 10       # อัตราส่งข้อมูลเป็นบิตต่อวินาที\n",
    "DATA = '00011011'   # ข้อมูลดิจิทัลที่ต้องการส่ง"
   ]
  },
  {
   "cell_type": "markdown",
   "metadata": {},
   "source": [
    "## มอดูเลชันแบบ Binary Amplitude Shift Keying (ASK)\n",
    "ASK ใช้ค่าแอมพลิจูดของคลื่นพาหะเป็นตัวบ่งชี้ค่าบิตข้อมูลทีละบิต"
   ]
  },
  {
   "cell_type": "code",
   "execution_count": null,
   "metadata": {},
   "outputs": [],
   "source": [
    "mod_ask = ask_modulation(bitrate=BIT_RATE,fc=CARRIER_FREQ)\n",
    "sig_ask = mod_ask.generate_signal(DATA)\n",
    "print(\"data bits =\",DATA)\n",
    "sig_ask.plot_time()\n",
    "sig_ask.plot_freq()"
   ]
  },
  {
   "cell_type": "markdown",
   "metadata": {},
   "source": [
    "## มอดูเลชันแบบ On-Off Keying (OOK)\n",
    "OOK เป็นรูปแบบหนึ่งของ Binary ASK โดยที่ใช้แอมพลิจูดเท่ากับศูนย์แทนบิตข้อมูล 0 "
   ]
  },
  {
   "cell_type": "code",
   "execution_count": null,
   "metadata": {},
   "outputs": [],
   "source": [
    "mod_ook = ook_modulation(bitrate=BIT_RATE,fc=CARRIER_FREQ)\n",
    "sig_ook = mod_ook.generate_signal(DATA)\n",
    "print(\"data bits =\",DATA)\n",
    "sig_ook.plot_time()\n",
    "sig_ook.plot_freq()"
   ]
  },
  {
   "cell_type": "markdown",
   "metadata": {},
   "source": [
    "## มอดูเลชันแบบ Binary Phase Shift Keying (PSK)\n",
    "PSK ใช้ค่าเฟสของคลื่นพาหะเป็นตัวบ่งชี้ค่าบิตข้อมูล โดยใช้รูปแบบคลื่นที่มีเฟสแตกต่างกัน 2 รูปแบบ"
   ]
  },
  {
   "cell_type": "code",
   "execution_count": null,
   "metadata": {},
   "outputs": [],
   "source": [
    "mod_psk = psk_modulation(bitrate=BIT_RATE,fc=CARRIER_FREQ)\n",
    "sig_psk = mod_psk.generate_signal(DATA)\n",
    "print(\"data bits =\",DATA)\n",
    "sig_psk.plot_time()\n",
    "sig_psk.plot_freq()"
   ]
  },
  {
   "cell_type": "markdown",
   "metadata": {
    "collapsed": true
   },
   "source": [
    "## มอดูเลชันแบบ Quadrature Phase Shift Keying (QPSK)\n",
    "เป็น PSK แบบที่ใช้รูปแบบคลื่นที่เฟสแตกต่างกัน 4 รูปแบบ ทำให้ 1 รูปคลื่นแทนค่าข้อมูลได้ 2 บิต (2 bits/symbol) วงจรสร้างสัญญาณอย่างง่ายอาศัยการสร้างคลื่นซายน์ที่มีมุมแตกต่างกัน $90\\circ$ เพื่อนำมาผสมกันให้ได้รูปคลื่นที่มีเฟส 4 รูปแบบคือ $45^\\circ$, $135^\\circ$, $-45^\\circ$ และ $-135^\\circ$\n",
    "![วงจรมอดูเลชันแบบ QPSK](pics/qpsk-circuit.png)"
   ]
  },
  {
   "cell_type": "code",
   "execution_count": null,
   "metadata": {},
   "outputs": [],
   "source": [
    "mod_qpsk = qpsk_modulation(bitrate=BIT_RATE,fc=CARRIER_FREQ)\n",
    "sig_qpsk = mod_qpsk.generate_signal(DATA)\n",
    "print(\"data bits =\",DATA)\n",
    "sig_qpsk.plot_time()\n",
    "sig_qpsk.plot_freq()"
   ]
  },
  {
   "cell_type": "markdown",
   "metadata": {},
   "source": [
    "## ผลกระทบที่เกิดจากช่องสัญญาณแบบ band-pass"
   ]
  },
  {
   "cell_type": "code",
   "execution_count": null,
   "metadata": {},
   "outputs": [],
   "source": [
    "sig_tx = sig_ook.copy()\n",
    "sig_rx = sig_tx.copy()\n",
    "\n",
    "band = (CARRIER_FREQ-BIT_RATE,CARRIER_FREQ+BIT_RATE)\n",
    "print(\"frequency band:\",band)\n",
    "sig_rx.filter(band)\n",
    "\n",
    "fig = bkp.figure(height=300)\n",
    "sig_tx.plot_time(fig=fig,line_options=dict(color=\"green\",line_width=2))\n",
    "sig_rx.plot_time(fig=fig,line_options=dict(color=\"red\",line_width=1))\n",
    "bkp.show(fig)"
   ]
  },
  {
   "cell_type": "code",
   "execution_count": null,
   "metadata": {
    "collapsed": true
   },
   "outputs": [],
   "source": []
  }
 ],
 "metadata": {
  "kernelspec": {
   "display_name": "Python 3.6",
   "language": "python",
   "name": "python-3.6"
  },
  "language_info": {
   "codemirror_mode": {
    "name": "ipython",
    "version": 3
   },
   "file_extension": ".py",
   "mimetype": "text/x-python",
   "name": "python",
   "nbconvert_exporter": "python",
   "pygments_lexer": "ipython3",
   "version": "3.6.0"
  }
 },
 "nbformat": 4,
 "nbformat_minor": 1
}
