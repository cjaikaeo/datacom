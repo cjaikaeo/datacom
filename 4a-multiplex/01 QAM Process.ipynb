{
 "cells": [
  {
   "cell_type": "markdown",
   "metadata": {},
   "source": [
    "# กระบวนการมอดูเลทและดีมอดูเลทสัญญาณ QAM\n",
    "\n",
    "## วัตถุประสงค์\n",
    "* เข้าใจรายละเอียดของกระบวนการมอดูเลทสัญญาณด้วยกลไก QAM\n",
    "* เข้าใจกระบวนการดีมอดูเลทสัญญาณที่ผ่านการมอดูเลทด้วยกลไก QAM และทราบถึงวิธีการตีความสัญญาณให้กลับมาในรูปข้อมูลดิจิทัลได้"
   ]
  },
  {
   "cell_type": "markdown",
   "metadata": {},
   "source": [
    "## การเตรียมตัว\n",
    "เรียกใช้งานโมดูลที่เกี่ยวข้อง"
   ]
  },
  {
   "cell_type": "code",
   "execution_count": null,
   "metadata": {
    "collapsed": true
   },
   "outputs": [],
   "source": [
    "import numpy as np\n",
    "from sigproc import Signal,start_notebook\n",
    "from analog import Qam\n",
    "\n",
    "bkp = start_notebook()\n",
    "\n",
    "# สร้างการตั้งค่าการแสดงผลกราฟเอาไว้ใช้ภายหลัง\n",
    "FOPTS = dict(height=250,y_range=(-1.2,1.2))"
   ]
  },
  {
   "cell_type": "markdown",
   "metadata": {},
   "source": [
    "## สร้างสัญญาณ QAM ตัวอย่าง"
   ]
  },
  {
   "cell_type": "code",
   "execution_count": null,
   "metadata": {
    "collapsed": true
   },
   "outputs": [],
   "source": [
    "BITRATE = 10\n",
    "FC = 50\n",
    "DATA = \"00 01 10 11\"\n",
    "modulation = { \n",
    "    '00' : (1,-135),\n",
    "    '01' : (1, 135),\n",
    "    '10' : (1,-45),\n",
    "    '11' : (1, 45),\n",
    "    }\n",
    "\n",
    "qam = Qam(modulation=modulation,bitrate=BITRATE,fc=FC)\n",
    "\n",
    "print(\"Constellation Diagram\")\n",
    "qam.plot_constellation()\n",
    "\n",
    "s = qam.generate_signal(DATA)\n",
    "print(f\"QAM signal representing {DATA} in time domain\")\n",
    "s.plot_time(fig_options=FOPTS)"
   ]
  },
  {
   "cell_type": "markdown",
   "metadata": {},
   "source": [
    "## กระบวนการส่งสัญญาณ\n",
    "เมท็อด `generate_signal()` ในคลาส `Qam` ซ่อนรายละเอียดที่สำคัญเอาไว้หลายส่วนเนื่องจากต้องการให้ทดลองสร้างสัญญาณได้โดยง่าย\n",
    "กระบวนการส่งสัญญาณที่ครบถ้วนประกอบไปด้วยกลไกดังภาพ\n",
    "\n",
    "![modulation](pics/modulation.png)\n",
    "\n",
    "ต่อไปนี้จะแสดงการสร้างสัญญาณทีละขั้นตอนเพื่อให้ได้สัญญาณสุดท้ายตามกราฟข้างต้น"
   ]
  },
  {
   "cell_type": "markdown",
   "metadata": {},
   "source": [
    "### สร้างสัญญาณ baseband\n",
    "ใช้เมท็อด `baseband_signals()` ในคลาส `Qam` เพื่อสร้างสัญญาณ baseband 2 สัญญาณ (I และ Q) จากข้อมูลดิจิทัลที่ระบุ โดยดึงแอมพลิจูดของ I และ Q มาจาก constellation mapping "
   ]
  },
  {
   "cell_type": "code",
   "execution_count": null,
   "metadata": {
    "collapsed": true
   },
   "outputs": [],
   "source": [
    "baseband_i,baseband_q = qam.baseband_signals(DATA)\n",
    "print(f\"DATA = {DATA}\")\n",
    "\n",
    "print(\"Baseband signal: I component\")\n",
    "baseband_i.plot_time(fig_options=FOPTS)\n",
    "print(\"Baseband signal: Q component\")\n",
    "baseband_q.plot_time(fig_options=FOPTS)"
   ]
  },
  {
   "cell_type": "markdown",
   "metadata": {},
   "source": [
    "### มอดูเลทสัญญาณลงไปบนคลื่นพาหะ\n",
    "สัญญาณ baseband แต่ละองค์ประกอบ I และ Q จะถูกนำมาคูณเข้ากับคลื่นพาหะตามความถี่ที่กำหนดไว้ตั้งแต่แรก โดยคลื่นพาหะขององค์ประกอบ I และ Q จะมีเฟสที่แตกต่างกันอยู่ 90 องศา\n",
    "\n",
    "เพื่อความสะดวก คลาส `Qam` มีสแตติกเมท็อด `generate_frequency()` ที่ใช้สร้างสัญญาณสำหรับคลื่นพาหะเพื่อนำไปคูณกับสัญญาณ baseband ข้างต้นได้ทันที"
   ]
  },
  {
   "cell_type": "code",
   "execution_count": null,
   "metadata": {
    "collapsed": true
   },
   "outputs": [],
   "source": [
    "carrier_i = Qam.generate_frequency(FC,baseband_i.duration,phase=0)\n",
    "carrier_q = Qam.generate_frequency(FC,baseband_i.duration,phase=90)\n",
    "mod_i = carrier_i*baseband_i\n",
    "mod_q = carrier_q*baseband_q\n",
    "print(\"Modulated I component\")\n",
    "mod_i.plot_time(fig_options=FOPTS)\n",
    "print(\"Modulated Q component\")\n",
    "mod_q.plot_time(fig_options=FOPTS)"
   ]
  },
  {
   "cell_type": "markdown",
   "metadata": {},
   "source": [
    "### ผสมสัญญาณและส่งออก\n",
    "เมื่อนำสัญญาณที่มอดูเลทแล้วทั้งองค์ประกอบ I และ Q มาผสมกัน จะได้ผลลัพธ์เป็นสัญญาณของคลื่นพาหะที่มีเฟสชิฟต์เป็นไปตามที่กำหนดเอาไว้ใน constellation mapping ตั้งแต่แรก เห็นได้ว่าผลลัพธ์เหมือนกับสัญญาณที่สร้างจากเมท็อด `generate_signal` ข้างต้นทุกประการ"
   ]
  },
  {
   "cell_type": "code",
   "execution_count": null,
   "metadata": {
    "collapsed": true
   },
   "outputs": [],
   "source": [
    "mod_signal = mod_i + mod_q\n",
    "mod_signal.plot_time(fig_options=FOPTS)"
   ]
  },
  {
   "cell_type": "markdown",
   "metadata": {},
   "source": [
    "## กระบวนการรับสัญญาณ\n",
    "ส่วนแรกของกระบวนการรับสัญญาณคือการดีมอดูเลทสัญญาณให้ได้สัญญาณ baseband กลับออกมา หลักการในการดีมอดูเลทสัญญาณอาศัยเอกลักษณ์พื้นฐานทางตรีโกณดังนี้\n",
    "\n",
    "$$\n",
    "  \\sin^2 x = \\frac{1-\\cos 2x}{2},~~\n",
    "  \\cos^2 x = \\frac{1+\\sin 2x}{2}~~และ~~\n",
    "  \\sin x\\cdot\\cos x = \\frac{\\sin 2x}{2}\n",
    "$$\n",
    "\n",
    "สมมติให้ฟังก์ชัน $I(t)$ และ $Q(t)$ แทนสัญญาณ baseband ในองค์ประกอบ I และ Q ตามลำดับ สัญญาณผลลัพธ์ $s(t)$ หลังจากผ่านกระบวนการมอดูเลชันคือ\n",
    "\n",
    "$$ s(t) = I(t)\\sin 2\\pi f_c t + Q(t)\\cos 2\\pi f_c t $$\n",
    "\n",
    "ฝั่งรับสัญญาณต้องการแยกสัญญาณ baseband ออกจากคลื่นพาหะ ด้วยหลักการตรีโกณข้างต้นจะเห็นว่าเมื่อนำเอาสัญญาณ $s(t)$ มาคูณกับคลื่นพาหะ $\\sin 2\\pi f_c t$ จะทำให้สามารถแยกพจน์ของ $I(t)$ออกมาได้ดังนี้\n",
    "\n",
    "$$\n",
    "\\begin{eqnarray*}\n",
    "  s(t)\\cdot\\sin 2\\pi f_c t\n",
    "    &=& I(t)\\sin^2 2\\pi f_c t + Q(t)\\cos 2\\pi f_c t \\cdot\\sin 2\\pi f_c t \\\\\n",
    "    &=& \\frac{1}{2}I(t) - \\frac{1}{2}I(t)\\cos 4\\pi f_c t + \\frac{1}{2}Q(t)\\sin 4\\pi f_c t\n",
    "\\end{eqnarray*}\n",
    "$$\n",
    "\n",
    "เห็นได้ว่าพจน์ $-\\frac{1}{2}I(t)\\cos 4\\pi f_c t$ และ $\\frac{1}{2}Q(t)\\sin 4\\pi f_c t$ ให้ความถี่กระจายอยู่รอบบริเวณ $2f_c$ ดังนั้นเมื่อนำผลคูณของสัญญาณข้างต้นมากรองด้วย low-pass filter และคูณด้วยสอง จะเหลือเพียงสัญญาณที่ประมาณค่าใกล้เคียงกับสัญญาณ baseband $I(t)$ ดั้งเดิม\n",
    "\n",
    "ในทำนองเดียวกัน เมื่อนำผลคูณ $s(t)\\cdot \\cos 2\\pi f_c t$ มากรองด้วย low-pass filter และคูณด้วยสอง จะได้สัญญาณที่ใกล้เคียงกับสัญญาณ baseband $Q(t)$ ดั้งเดิมเช่นเดียวกัน\n",
    "\n",
    "$$\n",
    "\\begin{eqnarray*}\n",
    "  s(t)\\cdot\\cos 2\\pi f_c t\n",
    "    &=& I(t)\\sin 2\\pi f_c t \\cdot \\cos 2\\pi f_c t + Q(t)\\cos^2 2\\pi f_c t \\\\\n",
    "    &=& \\frac{1}{2}I(t)\\sin 4\\pi f_c t + \\frac{1}{2}Q(t) + \\frac{1}{2}Q(t)\\sin 4\\pi f_c t\n",
    "\\end{eqnarray*}\n",
    "$$\n",
    "\n",
    "สัญญาณ $I(t)$ และ $Q(t)$ ที่แยกออกมาได้จะถูกนำไปเปรียบเทียบกับ constellation เพื่อตรวจหาซิมโบลที่ใกล้เคียงที่สุดและตีความเป็นข้อมูลดิจิทัลต่อไป\n",
    "\n",
    "กระบวนการดีมอดูเลทสัญญาณทั้งหมดจึงมีขั้นตอนดังภาพ\n",
    "\n",
    "![demodulation](pics/demodulation.png)"
   ]
  },
  {
   "cell_type": "markdown",
   "metadata": {},
   "source": [
    "### ดีมอดูเลทสัญญาณ\n",
    "โค้ดด้านล่างใช้กระบวนการข้างต้นดีมอดูเลทสัญญาณเพื่อให้ได้สัญญาณ baseband ทั้ง I และ Q"
   ]
  },
  {
   "cell_type": "code",
   "execution_count": null,
   "metadata": {
    "collapsed": true
   },
   "outputs": [],
   "source": [
    "rx_i = (mod_signal*carrier_i*2).filter(FC)\n",
    "rx_q = (mod_signal*carrier_q*2).filter(FC)\n",
    "\n",
    "print(\"Demodulated baseband signal: I component\")\n",
    "rx_i.plot_time(fig_options=FOPTS)\n",
    "print(\"Demodulated baseband signal: Q component\")\n",
    "rx_q.plot_time(fig_options=FOPTS)"
   ]
  },
  {
   "cell_type": "markdown",
   "metadata": {},
   "source": [
    "### ตีความสัญญาณ baseband\n",
    "ขั้นตอนสุดท้ายของกระบวนการรับสัญญาณคือนำสัญญาณ baseband ที่ได้กลับคืนมาไปเปรียบเทียบกับ constellation ที่กำหนด โค้ดด้านล่างแสดงการสุ่มค่าสัญญาณจากจุดกึ่งกลางของแต่ละซิมโบลพร้อมแปลงค่าในรูปแบบ in-phase/quadrature ให้เป็นรูปแบบ magnitude/phase เพื่อให้เปรียบเทียบกับตารางกำหนดรูปสัญญาณข้างต้นได้สะดวก"
   ]
  },
  {
   "cell_type": "code",
   "execution_count": null,
   "metadata": {
    "collapsed": true
   },
   "outputs": [],
   "source": [
    "# คำนวณหาระยะเวลาของ 1 symbol\n",
    "symbol_interval = 1/qam.baud_rate\n",
    "\n",
    "# กำหนดจุดเวลาที่ใช้สุ่มสัญญาณ โดยสุ่ม ณ ตำแหน่งกึ่งกลางของซิมโบล\n",
    "sampling = np.arange(0,mod_signal.duration,symbol_interval) + symbol_interval/2\n",
    "\n",
    "# พล็อตจุดแสดงตำแหน่งที่สุ่มตรวจสอบค่าในสัญญาณ\n",
    "fig = bkp.figure(**FOPTS)\n",
    "rx_i.plot_time(fig=fig,line_options=dict(color=\"red\",legend=\"I\"))\n",
    "rx_q.plot_time(fig=fig,line_options=dict(color=\"blue\",legend=\"Q\"))\n",
    "fig.scatter(sampling*1000,rx_i.time_function(sampling),line_color=\"red\",fill_color=\"yellow\",size=10)\n",
    "fig.scatter(sampling*1000,rx_q.time_function(sampling),line_color=\"blue\",fill_color=\"yellow\",size=10)\n",
    "bkp.show(fig)"
   ]
  },
  {
   "cell_type": "markdown",
   "metadata": {},
   "source": [
    "โค้ดด้านล่างแสดงค่าของแต่ละซิมโบลที่อ่านมาได้ โดยแสดงทั้งในรูป in-phase/quadrature และในรูป magnitude/phase (การคำนวณอาศัยคณิตศาสตร์ของจำนวนเชิงซ้อนแทนการใช้ตรีโกณ เนื่องจากไพทอนเตรียมฟังก์ชันสำหรับจำนวนเชิงซ้อนที่พร้อมนำมาใช้งานได้ง่าย)"
   ]
  },
  {
   "cell_type": "code",
   "execution_count": null,
   "metadata": {
    "collapsed": true
   },
   "outputs": [],
   "source": [
    "points = rx_i.time_function(sampling)+rx_q.time_function(sampling)*1j\n",
    "for i,z in enumerate(points):\n",
    "    mag = np.abs(z)\n",
    "    phase = np.degrees(np.angle(z))\n",
    "    print(f\"Symbol #{i+1}: (I={z.real:4.1f}, Q={z.imag:4.1f}) -> (mag={mag:.1f}, phase={phase:6.1f})\")"
   ]
  }
 ],
 "metadata": {
  "kernelspec": {
   "display_name": "Python 3.6",
   "language": "python",
   "name": "python-3.6"
  },
  "language_info": {
   "codemirror_mode": {
    "name": "ipython",
    "version": 3
   },
   "file_extension": ".py",
   "mimetype": "text/x-python",
   "name": "python",
   "nbconvert_exporter": "python",
   "pygments_lexer": "ipython3",
   "version": "3.6.0"
  }
 },
 "nbformat": 4,
 "nbformat_minor": 2
}
